{
 "cells": [
  {
   "cell_type": "markdown",
   "metadata": {
    "colab_type": "text",
    "id": "2f4lu30OuocC"
   },
   "source": [
    "## Import of libraries"
   ]
  },
  {
   "cell_type": "code",
   "execution_count": 1,
   "metadata": {
    "colab": {
     "base_uri": "https://localhost:8080/",
     "height": 34
    },
    "colab_type": "code",
    "id": "1tkbZ5CjoZzu",
    "outputId": "e8009b7d-b824-470b-e085-b4facbc26b6f"
   },
   "outputs": [
    {
     "name": "stderr",
     "output_type": "stream",
     "text": [
      "Using TensorFlow backend.\n"
     ]
    }
   ],
   "source": [
    "from keras.models import Sequential\n",
    "from keras.layers import Dense, Conv2D, MaxPooling2D, Dropout, Flatten\n",
    "\n",
    "import keras.backend as K\n",
    "from keras.optimizers import adam\n",
    "from keras.callbacks import Callback\n",
    "\n",
    "from keras.utils import np_utils\n",
    "from keras.datasets import cifar10\n",
    "import numpy as np\n",
    "\n",
    "import matplotlib.pyplot as plt\n",
    "\n",
    "from keras import backend as K\n",
    "K.common.set_image_dim_ordering('tf')"
   ]
  },
  {
   "cell_type": "code",
   "execution_count": 2,
   "metadata": {
    "colab": {},
    "colab_type": "code",
    "id": "SzfEacUQyY9I"
   },
   "outputs": [],
   "source": [
    "import matplotlib as mpl\n",
    "mpl.style.use('classic')"
   ]
  },
  {
   "cell_type": "markdown",
   "metadata": {
    "colab_type": "text",
    "id": "Wcvno0hYtqKa"
   },
   "source": [
    "## Preparation of the data"
   ]
  },
  {
   "cell_type": "code",
   "execution_count": 3,
   "metadata": {
    "colab": {
     "base_uri": "https://localhost:8080/",
     "height": 51
    },
    "colab_type": "code",
    "id": "WdVAo769oZ0G",
    "outputId": "924447dd-13d3-447c-a193-9a4a36b57396"
   },
   "outputs": [],
   "source": [
    "(x_train, y_train), (x_test, y_test) = cifar10.load_data()\n",
    "x_train = x_train.astype('float32')\n",
    "x_test = x_test.astype('float32')"
   ]
  },
  {
   "cell_type": "code",
   "execution_count": 4,
   "metadata": {
    "colab": {},
    "colab_type": "code",
    "id": "U5-tlL69oZ0M"
   },
   "outputs": [],
   "source": [
    "mean = np.mean(x_train,axis=(0,1,2,3))\n",
    "std = np.std(x_train,axis=(0,1,2,3))\n",
    "x_train = (x_train-mean)/(std+1e-7)\n",
    "x_test = (x_test-mean)/(std+1e-7)"
   ]
  },
  {
   "cell_type": "code",
   "execution_count": 5,
   "metadata": {
    "colab": {},
    "colab_type": "code",
    "id": "VhbpF0a5oZ0Q"
   },
   "outputs": [],
   "source": [
    "nClasses = 10\n",
    "y_train = np_utils.to_categorical(y_train,nClasses)\n",
    "y_test = np_utils.to_categorical(y_test,nClasses)"
   ]
  },
  {
   "cell_type": "code",
   "execution_count": 6,
   "metadata": {
    "colab": {
     "base_uri": "https://localhost:8080/",
     "height": 51
    },
    "colab_type": "code",
    "id": "WNE2vS46oZ06",
    "outputId": "8018092b-7838-4aba-a118-421c61187843"
   },
   "outputs": [
    {
     "name": "stdout",
     "output_type": "stream",
     "text": [
      "(50000, 32, 32, 3)\n",
      "(50000, 10)\n"
     ]
    }
   ],
   "source": [
    "print(x_train.shape)\n",
    "print(y_train.shape)"
   ]
  },
  {
   "cell_type": "markdown",
   "metadata": {
    "colab_type": "text",
    "id": "oi9L4zskoZz4"
   },
   "source": [
    "## Neural Network Model"
   ]
  },
  {
   "cell_type": "markdown",
   "metadata": {
    "colab_type": "text",
    "id": "4BJrWQYUu1Ho"
   },
   "source": [
    "### Creation of the model"
   ]
  },
  {
   "cell_type": "code",
   "execution_count": 7,
   "metadata": {
    "colab": {},
    "colab_type": "code",
    "id": "U22K_-PsmghP"
   },
   "outputs": [],
   "source": [
    "input_shape = (32,32,3)"
   ]
  },
  {
   "cell_type": "code",
   "execution_count": 8,
   "metadata": {
    "colab": {},
    "colab_type": "code",
    "id": "eo4Ag1PsoZz6"
   },
   "outputs": [],
   "source": [
    "def createModel():\n",
    "    model = Sequential()\n",
    "    model.add(Conv2D(32, (3, 3), padding='same', activation='relu', input_shape=input_shape))\n",
    "    model.add(Conv2D(32, (3, 3), activation='relu'))\n",
    "    model.add(MaxPooling2D(pool_size=(2, 2)))\n",
    "    model.add(Dropout(0.4))\n",
    " \n",
    "    model.add(Conv2D(64, (3, 3), padding='same', activation='relu'))\n",
    "    model.add(Conv2D(64, (3, 3), activation='relu'))\n",
    "    model.add(MaxPooling2D(pool_size=(2, 2)))\n",
    "    model.add(Dropout(0.4))\n",
    " \n",
    "    model.add(Conv2D(64, (3, 3), padding='same', activation='relu'))\n",
    "    model.add(Conv2D(64, (3, 3), activation='relu'))\n",
    "    model.add(MaxPooling2D(pool_size=(2, 2)))\n",
    "    model.add(Dropout(0.4))\n",
    " \n",
    "    model.add(Flatten())\n",
    "    model.add(Dense(512, activation='relu'))\n",
    "    model.add(Dropout(0.5))\n",
    "    model.add(Dense(nClasses, activation='softmax'))\n",
    "     \n",
    "    return model"
   ]
  },
  {
   "cell_type": "code",
   "execution_count": 9,
   "metadata": {
    "colab": {
     "base_uri": "https://localhost:8080/",
     "height": 149
    },
    "colab_type": "code",
    "id": "GTlsSHMboZ0o",
    "outputId": "43cc9f39-8926-4bcf-88e7-eb07d7c3de65"
   },
   "outputs": [],
   "source": [
    "K.clear_session()\n",
    "model = createModel()"
   ]
  },
  {
   "cell_type": "code",
   "execution_count": 10,
   "metadata": {
    "colab": {},
    "colab_type": "code",
    "id": "5c2I8KOioZ0v"
   },
   "outputs": [],
   "source": [
    "AdamOpt = adam(lr=0.001)\n",
    "model.compile(optimizer=AdamOpt, loss='categorical_crossentropy', \n",
    "              metrics=['accuracy'])"
   ]
  },
  {
   "cell_type": "markdown",
   "metadata": {
    "colab_type": "text",
    "id": "LFt3ieShu6H3"
   },
   "source": [
    "### ```CustomCallBack``` class for logging"
   ]
  },
  {
   "cell_type": "code",
   "execution_count": 11,
   "metadata": {
    "colab": {},
    "colab_type": "code",
    "id": "8YlxnovupqOc"
   },
   "outputs": [],
   "source": [
    "class CustomCallback(Callback):\n",
    "    def on_epoch_end(self, epoch, logs={}):\n",
    "        if (epoch % 5 == 0):\n",
    "            print (\"Just finished epoch\", epoch)\n",
    "            print ('Loss evaluated on the validation dataset =',\n",
    "                 logs.get('val_loss'))\n",
    "            print ('Accuracy reached train is', \n",
    "                 logs.get('accuracy'))\n",
    "            print ('Accuracy reached Val   is', \n",
    "                 logs.get('val_accuracy'))\n",
    "            return"
   ]
  },
  {
   "cell_type": "markdown",
   "metadata": {
    "colab_type": "text",
    "id": "NL_uVCiovGoH"
   },
   "source": [
    "### Training of the network"
   ]
  },
  {
   "cell_type": "code",
   "execution_count": null,
   "metadata": {
    "colab": {
     "base_uri": "https://localhost:8080/",
     "height": 773
    },
    "colab_type": "code",
    "id": "3FV2D08UoZ1G",
    "outputId": "1b7288fc-b900-424f-bc72-ac5da44a4562"
   },
   "outputs": [
    {
     "name": "stdout",
     "output_type": "stream",
     "text": [
      "Just finished epoch 0\n",
      "Loss evaluated on the validation dataset = 1.4469786403656006\n",
      "Accuracy reached train is 0.31814\n",
      "Accuracy reached Val   is 0.47209998965263367\n"
     ]
    }
   ],
   "source": [
    "batch_size = 256\n",
    "epochs = 50\n",
    "\n",
    "CC = CustomCallback()\n",
    "history = model.fit(x_train, y_train, batch_size=batch_size, epochs=epochs, \n",
    "                    verbose=0, \n",
    "                    validation_data=(x_test, y_test),\n",
    "          callbacks = [CC])"
   ]
  },
  {
   "cell_type": "markdown",
   "metadata": {
    "colab_type": "text",
    "id": "h7jgBcjYuBKV"
   },
   "source": [
    "## Plots"
   ]
  },
  {
   "cell_type": "code",
   "execution_count": null,
   "metadata": {
    "colab": {
     "base_uri": "https://localhost:8080/",
     "height": 464
    },
    "colab_type": "code",
    "id": "t0ETi-P4oZ1I",
    "outputId": "ab016c65-3dda-4efe-e1f5-a9fc0f6a887a"
   },
   "outputs": [],
   "source": [
    "# Loss Curves\n",
    "plt.figure(figsize=[8,6])\n",
    "plt.plot(history.history['loss'],'black',linewidth=3.0)\n",
    "plt.plot(history.history['val_loss'],'black',ls = '--', linewidth=3.0)\n",
    "plt.legend(['Training loss', 'Validation Loss'],fontsize=18)\n",
    "plt.xlabel('Epochs ',fontsize=16)\n",
    "plt.ylabel('Loss',fontsize=16)\n",
    "#plt.title('Loss Curves',fontsize=16)\n",
    "\n",
    "plt.savefig('ch3-michelucci-figxx1.png', bbox_inches='tight', dpi = 300)\n",
    "#files.download('loss.png')"
   ]
  },
  {
   "cell_type": "code",
   "execution_count": null,
   "metadata": {
    "colab": {
     "base_uri": "https://localhost:8080/",
     "height": 464
    },
    "colab_type": "code",
    "id": "Vsa4cwWopVBh",
    "outputId": "3ed722e7-9562-42b5-cab0-7ccf9c371474"
   },
   "outputs": [],
   "source": [
    "# Accuracy Curves\n",
    "plt.figure(figsize=[8,6])\n",
    "plt.plot(history.history['acc'],'black',linewidth=3.0)\n",
    "plt.plot(history.history['val_acc'],'black',ls = '--',linewidth=3.0)\n",
    "plt.legend(['Training Accuracy', 'Validation Accuracy'],fontsize=18, \n",
    "           loc = 'lower right')\n",
    "plt.xlabel('Epochs ',fontsize=16)\n",
    "plt.ylabel('Accuracy',fontsize=16)\n",
    "#plt.title('Accuracy Curves',fontsize=16)\n",
    "\n",
    "plt.savefig('ch3-michelucci-figxx2.png', bbox_inches='tight', dpi = 300)\n",
    "#files.download('accuracy.png')"
   ]
  },
  {
   "cell_type": "code",
   "execution_count": null,
   "metadata": {
    "colab": {},
    "colab_type": "code",
    "id": "qwl1Qp5wwr93"
   },
   "outputs": [],
   "source": []
  }
 ],
 "metadata": {
  "accelerator": "GPU",
  "colab": {
   "collapsed_sections": [],
   "name": "First Example of a CNN (CIFAR10).ipynb",
   "provenance": [],
   "toc_visible": true
  },
  "kernelspec": {
   "display_name": "Python 3",
   "language": "python",
   "name": "python3"
  },
  "language_info": {
   "codemirror_mode": {
    "name": "ipython",
    "version": 3
   },
   "file_extension": ".py",
   "mimetype": "text/x-python",
   "name": "python",
   "nbconvert_exporter": "python",
   "pygments_lexer": "ipython3",
   "version": "3.7.3"
  }
 },
 "nbformat": 4,
 "nbformat_minor": 1
}
